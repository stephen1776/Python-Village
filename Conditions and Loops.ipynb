{
 "cells": [
  {
   "cell_type": "code",
   "execution_count": 2,
   "metadata": {},
   "outputs": [
    {
     "name": "stdout",
     "output_type": "stream",
     "text": [
      "the number is greater or equal to 10\n"
     ]
    }
   ],
   "source": [
    "a = 42\n",
    "if a < 10:\n",
    "  print('the number is less than 10')\n",
    "else:\n",
    "  print ('the number is greater or equal to 10')"
   ]
  },
  {
   "cell_type": "code",
   "execution_count": 4,
   "metadata": {},
   "outputs": [
    {
     "name": "stdout",
     "output_type": "stream",
     "text": [
      "always printed\n"
     ]
    }
   ],
   "source": [
    "a = 2\n",
    "b = 5\n",
    "if a + b == 4:\n",
    "  print ('printed when a + b equals four')\n",
    "print ('always printed')"
   ]
  },
  {
   "cell_type": "code",
   "execution_count": 6,
   "metadata": {},
   "outputs": [
    {
     "name": "stdout",
     "output_type": "stream",
     "text": [
      "Hello! \n",
      "Hello! Hello! \n",
      "Hello! Hello! Hello! \n"
     ]
    }
   ],
   "source": [
    "greetings = 1\n",
    "while greetings <= 3:\n",
    "  print ('Hello! ' * greetings)\n",
    "  greetings = greetings + 1"
   ]
  },
  {
   "cell_type": "code",
   "execution_count": 8,
   "metadata": {},
   "outputs": [
    {
     "name": "stdout",
     "output_type": "stream",
     "text": [
      "Hello, Alice\n",
      "Hello, Bob\n",
      "Hello, Charley\n"
     ]
    }
   ],
   "source": [
    "'''\n",
    "If you want to carry out some action on every element of a list, the for loop will be handy\n",
    "'''\n",
    "names = ['Alice', 'Bob', 'Charley']\n",
    "for name in names:\n",
    "  print ('Hello, ' + name)\n"
   ]
  },
  {
   "cell_type": "code",
   "execution_count": 9,
   "metadata": {},
   "outputs": [
    {
     "name": "stdout",
     "output_type": "stream",
     "text": [
      "0\n",
      "1\n",
      "2\n",
      "3\n",
      "4\n",
      "5\n",
      "6\n",
      "7\n",
      "8\n",
      "9\n"
     ]
    }
   ],
   "source": [
    "n = 10\n",
    "for i in range(n):\n",
    "  print (i)"
   ]
  },
  {
   "cell_type": "code",
   "execution_count": null,
   "metadata": {
    "collapsed": true
   },
   "outputs": [],
   "source": []
  },
  {
   "cell_type": "code",
   "execution_count": 12,
   "metadata": {},
   "outputs": [
    {
     "name": "stdout",
     "output_type": "stream",
     "text": [
      "range(5, 12)\n"
     ]
    },
    {
     "data": {
      "text/plain": [
       "[5, 6, 7, 8, 9, 10, 11]"
      ]
     },
     "execution_count": 12,
     "metadata": {},
     "output_type": "execute_result"
    }
   ],
   "source": [
    "print(range(5, 12))\n",
    "list(range(5,12))"
   ]
  },
  {
   "cell_type": "code",
   "execution_count": 20,
   "metadata": {},
   "outputs": [
    {
     "name": "stdout",
     "output_type": "stream",
     "text": [
      "4727 9508\n",
      "17016747\n"
     ]
    }
   ],
   "source": [
    "'''\n",
    "Problem\n",
    "\n",
    "Given: Two positive integers a\n",
    "and b (a<b<10000\n",
    "\n",
    ").\n",
    "\n",
    "Return: The sum of all odd integers from a\n",
    "through b\n",
    "\n",
    ", inclusively.\n",
    "Sample Dataset\n",
    "\n",
    "100 200\n",
    "\n",
    "Sample Output\n",
    "\n",
    "7500\n",
    "\n",
    "    Hintclick to collapse\n",
    "\n",
    "    You can use a % 2 == 1 to test if a is odd.\n",
    "\n",
    "'''\n",
    "sumOdd = 0\n",
    "a,b=input().split(' ')\n",
    "\n",
    "if int(a) > int(b) > 10000:\n",
    "  print (\"!!!Invalid Values Encountered!!!\")\n",
    "\n",
    "elif int(a) == 0 and int(b) == 0:\n",
    "  print (\"0\")\n",
    "\n",
    "else:\n",
    "  for i in range(int(a),int(b)+1): #this makes it to b actual value w range\n",
    "    if i %2 != 0:\n",
    "      sumOdd = sumOdd + i\n",
    "print (sumOdd)"
   ]
  },
  {
   "cell_type": "code",
   "execution_count": null,
   "metadata": {
    "collapsed": true
   },
   "outputs": [],
   "source": []
  }
 ],
 "metadata": {
  "kernelspec": {
   "display_name": "Python 3",
   "language": "python",
   "name": "python3"
  },
  "language_info": {
   "codemirror_mode": {
    "name": "ipython",
    "version": 3
   },
   "file_extension": ".py",
   "mimetype": "text/x-python",
   "name": "python",
   "nbconvert_exporter": "python",
   "pygments_lexer": "ipython3",
   "version": "3.6.1"
  }
 },
 "nbformat": 4,
 "nbformat_minor": 2
}
