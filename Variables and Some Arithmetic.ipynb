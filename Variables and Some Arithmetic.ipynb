{
 "cells": [
  {
   "cell_type": "code",
   "execution_count": 2,
   "metadata": {},
   "outputs": [
    {
     "name": "stdout",
     "output_type": "stream",
     "text": [
      "a - b is 300\n"
     ]
    }
   ],
   "source": [
    "# example\n",
    "a = 324\n",
    "b = 24\n",
    "c = a - b\n",
    "print('a - b is', c)"
   ]
  },
  {
   "cell_type": "code",
   "execution_count": 2,
   "metadata": {},
   "outputs": [
    {
     "name": "stdout",
     "output_type": "stream",
     "text": [
      "c = 34\n"
     ]
    }
   ],
   "source": [
    "'''\n",
    "    Variables and Some Arithmetic\n",
    "\n",
    "Problem\n",
    "Given: Two positive integers a\n",
    "and b, each less than 1000.\n",
    "Return: The integer corresponding to the square of the hypotenuse of the right triangle whose legs have lengths a\n",
    "and b.\n",
    "Sample Dataset\n",
    "\n",
    "3 5\n",
    "\n",
    "Sample Output\n",
    "\n",
    "34    \n",
    "\n",
    "'''\n",
    "a = 3\n",
    "b = 5\n",
    "c = 0\n",
    "\n",
    "if int(a)>10000 or int(b)>10000:\n",
    "  print(\"Invalid Value!\") \n",
    "\n",
    "elif int(a)==0 and int(b)==0:\n",
    "  print(\"0\")\n",
    "\n",
    "else: \n",
    "    print('c =', a*a + b*b)\n"
   ]
  },
  {
   "cell_type": "code",
   "execution_count": null,
   "metadata": {
    "collapsed": true
   },
   "outputs": [],
   "source": []
  }
 ],
 "metadata": {
  "kernelspec": {
   "display_name": "Python 3",
   "language": "python",
   "name": "python3"
  },
  "language_info": {
   "codemirror_mode": {
    "name": "ipython",
    "version": 3
   },
   "file_extension": ".py",
   "mimetype": "text/x-python",
   "name": "python",
   "nbconvert_exporter": "python",
   "pygments_lexer": "ipython3",
   "version": "3.6.1"
  }
 },
 "nbformat": 4,
 "nbformat_minor": 2
}
